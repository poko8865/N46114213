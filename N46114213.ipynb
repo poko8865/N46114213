{
  "cells": [
    {
      "cell_type": "markdown",
      "metadata": {
        "id": "rJRRmPqouQaT"
      },
      "source": [
        "There are two datasets, crx.csv and data.csv, please use them to complete the requirements for this assignment below:\n",
        "\n",
        "1. The labels column in crx and data are \"label\" and \" Diagnosis\"\n",
        "\n",
        "2. Please implement the Linear Classifier from scratch with the update rule in the slide. It means you cannot adopt any existing package like sklearn in this assignment. \n",
        "\n",
        "3. When the $J=WX+b$ could be represented as the matrix form for the linear classifier, please find the solution by solving this equation using least-squared manner. Also, please implement it and make a comparison between this method and the previous one implemented in 2.\n",
        "\n",
        "4. Please implement the voted perception and make the performance comparison between methods.\n",
        "\n",
        "5. With minimizing the $||w||^2$, it should drive the marginal to be maximized as well. Please implement the linear classifier with the minimum $||w||^2$ property and verify whether the margin of this version is larger than that of the conventional linear classifier or not. \n",
        "\n",
        "6. Based on 5, please add the slack variable term in the linear classifier and find the most effective weighting value C.\n",
        "\n",
        "7. Use any existing SVM package (libSVM, sklearn, or Matlab SVM), please make a performance comparison between the built-in SVM and your implementation.\n",
        "\n",
        "\n",
        "\n",
        "All the source code should be uploaded to GitHhub with public access. The performance comparison should be organized into a formal report with the standard template indicated in Moodle."
      ]
    },
    {
      "cell_type": "code",
      "execution_count": 3,
      "metadata": {
        "id": "21XFOmUctVLv"
      },
      "outputs": [],
      "source": [
        "import numpy as np\n",
        "import pandas as pd\n",
        "import os \n",
        "import matplotlib.pyplot as plt\n",
        "plt.style.use(\"ggplot\")"
      ]
    },
    {
      "cell_type": "markdown",
      "metadata": {
        "id": "fEFi-eu3ff8B"
      },
      "source": [
        "# 開始撰寫自己的percrptron\n",
        "$\\sum_{i=1}^{n}X_iW_i$ <BR>\n"
      ]
    },
    {
      "cell_type": "code",
      "execution_count": 249,
      "metadata": {
        "id": "eg90aDasTAYY"
      },
      "outputs": [],
      "source": [
        "class VotePerceptron:\n",
        "    def __init__(self):\n",
        "        self.reset_model()\n",
        "        \n",
        "    def reset_model(self):\n",
        "        self.epoch = 0\n",
        "        self.epoch_error_count_list = []\n",
        "        self.error_arr = None\n",
        "        self.w_arr = None\n",
        "        self.w = None\n",
        "\n",
        "    def import_data(self, x_train, y_train, x_test, y_test):\n",
        "        self.x_train = x_train\n",
        "        self.y_train = y_train\n",
        "        self.x_test = x_test\n",
        "        self.y_test = y_test\n",
        "\n",
        "    def fit(self, max_epoch, lr0=0.99, decay_epoch=10, decay_rate=0.01, min_lr=0.01): \n",
        "        self.reset_model()\n",
        "        x = self.x_train\n",
        "        y = self.y_train\n",
        "        self.w = np.zeros(x.shape[-1])\n",
        "        lr = lr0\n",
        "\n",
        "        self.w_arr = self.w #np.vstack((self.w_arr, self.w))\n",
        "        self.error_arr = np.array(self.error_rate(self.predict(x), y))\n",
        "        self.epoch_error_count_list.append(self.error_count(self.predict(x), y))\n",
        "        \n",
        "        while self.epoch_error_count_list[self.epoch] != 0 and self.epoch < max_epoch:\n",
        "            error = 0\n",
        "            self.epoch += 1\n",
        "            epoch_error_count = 0\n",
        "            for i in range(len(x)):\n",
        "                xi,yi = x[i, :], y[i]\n",
        "                if self.predict(xi) != yi:\n",
        "                    \n",
        "                    error += 1\n",
        "\n",
        "                    self.w_arr = np.vstack((self.w_arr, self.w))\n",
        "                    self.error_arr = np.hstack((self.error_arr, self.error_rate(self.predict(x), y)))\n",
        "                    self.w += yi*xi*lr#(lr - decay_epoch * self.epoch//10)\n",
        "            if lr > min_lr:\n",
        "                lr = lr*(1-self.epoch//decay_epoch*decay_rate)\n",
        "            self.epoch_error_count_list.append(error)    \n",
        "\n",
        "    def error_count(self, y_predict, y):\n",
        "        return sum(~np.equal(y_predict, y))\n",
        "\n",
        "    def error_rate(self, y_predict, y):\n",
        "        return self.error_count(y_predict, y)/len(y)\n",
        "\n",
        "    def predict(self, x):\n",
        "        return np.sign(np.dot(self.w, x.T))\n",
        "    \n",
        "    def error_plot(self):\n",
        "        plt.plot([i/len(self.x_train) for i in self.epoch_error_count_list])\n",
        "\n",
        "    def vote_predict(self, x):\n",
        "        return np.sign(np.sign(np.dot(self.w_arr, x.T)).sum(axis=0))"
      ]
    },
    {
      "cell_type": "markdown",
      "metadata": {
        "id": "Rwz_afCNcBBP"
      },
      "source": [
        "# 匯入CSV檔案"
      ]
    },
    {
      "cell_type": "code",
      "execution_count": 220,
      "metadata": {
        "id": "aFqyzCdkcAJd"
      },
      "outputs": [],
      "source": [
        "# 這裡改成你雲端的位置\n",
        "path = \"/content/drive/MyDrive/code/楊育銘/linear_classfier\"\n",
        "\n",
        "dataset1 = pd.read_csv(os.path.join(path, \"crx.csv\"))\n",
        "dataset2 = pd.read_csv(os.path.join(path, \"data.csv\"), index_col=0)"
      ]
    },
    {
      "cell_type": "markdown",
      "metadata": {
        "id": "BziUe2EhIvrY"
      },
      "source": [
        "# dataset1\n",
        "共有690筆資料，我們取80%資料作為train data，20%作為test data<BR>\n",
        "發現dataset1中有較多類別資料，先篩選類別資料進行one-hot encoding再合併"
      ]
    },
    {
      "cell_type": "code",
      "execution_count": 216,
      "metadata": {
        "colab": {
          "base_uri": "https://localhost:8080/",
          "height": 175
        },
        "id": "ZZ5p9UlzNlz7",
        "outputId": "9e329c11-d1a1-4dae-bbf8-cc478abdf403"
      },
      "outputs": [
        {
          "data": {
            "text/html": [
              "\n",
              "  <div id=\"df-048112bc-0178-45b7-9902-767dd833f92e\">\n",
              "    <div class=\"colab-df-container\">\n",
              "      <div>\n",
              "<style scoped>\n",
              "    .dataframe tbody tr th:only-of-type {\n",
              "        vertical-align: middle;\n",
              "    }\n",
              "\n",
              "    .dataframe tbody tr th {\n",
              "        vertical-align: top;\n",
              "    }\n",
              "\n",
              "    .dataframe thead th {\n",
              "        text-align: right;\n",
              "    }\n",
              "</style>\n",
              "<table border=\"1\" class=\"dataframe\">\n",
              "  <thead>\n",
              "    <tr style=\"text-align: right;\">\n",
              "      <th></th>\n",
              "      <th>att1</th>\n",
              "      <th>att2</th>\n",
              "      <th>att4</th>\n",
              "      <th>att5</th>\n",
              "      <th>att6</th>\n",
              "      <th>att7</th>\n",
              "      <th>att9</th>\n",
              "      <th>att10</th>\n",
              "      <th>att12</th>\n",
              "      <th>att13</th>\n",
              "      <th>att14</th>\n",
              "      <th>label</th>\n",
              "    </tr>\n",
              "  </thead>\n",
              "  <tbody>\n",
              "    <tr>\n",
              "      <th>count</th>\n",
              "      <td>690</td>\n",
              "      <td>690</td>\n",
              "      <td>690</td>\n",
              "      <td>690</td>\n",
              "      <td>690</td>\n",
              "      <td>690</td>\n",
              "      <td>690</td>\n",
              "      <td>690</td>\n",
              "      <td>690</td>\n",
              "      <td>690</td>\n",
              "      <td>690</td>\n",
              "      <td>690</td>\n",
              "    </tr>\n",
              "    <tr>\n",
              "      <th>unique</th>\n",
              "      <td>3</td>\n",
              "      <td>350</td>\n",
              "      <td>4</td>\n",
              "      <td>4</td>\n",
              "      <td>15</td>\n",
              "      <td>10</td>\n",
              "      <td>2</td>\n",
              "      <td>2</td>\n",
              "      <td>2</td>\n",
              "      <td>3</td>\n",
              "      <td>171</td>\n",
              "      <td>2</td>\n",
              "    </tr>\n",
              "    <tr>\n",
              "      <th>top</th>\n",
              "      <td>b</td>\n",
              "      <td>?</td>\n",
              "      <td>u</td>\n",
              "      <td>g</td>\n",
              "      <td>c</td>\n",
              "      <td>v</td>\n",
              "      <td>t</td>\n",
              "      <td>f</td>\n",
              "      <td>f</td>\n",
              "      <td>g</td>\n",
              "      <td>0</td>\n",
              "      <td>-</td>\n",
              "    </tr>\n",
              "    <tr>\n",
              "      <th>freq</th>\n",
              "      <td>468</td>\n",
              "      <td>12</td>\n",
              "      <td>519</td>\n",
              "      <td>519</td>\n",
              "      <td>137</td>\n",
              "      <td>399</td>\n",
              "      <td>361</td>\n",
              "      <td>395</td>\n",
              "      <td>374</td>\n",
              "      <td>625</td>\n",
              "      <td>132</td>\n",
              "      <td>383</td>\n",
              "    </tr>\n",
              "  </tbody>\n",
              "</table>\n",
              "</div>\n",
              "      <button class=\"colab-df-convert\" onclick=\"convertToInteractive('df-048112bc-0178-45b7-9902-767dd833f92e')\"\n",
              "              title=\"Convert this dataframe to an interactive table.\"\n",
              "              style=\"display:none;\">\n",
              "        \n",
              "  <svg xmlns=\"http://www.w3.org/2000/svg\" height=\"24px\"viewBox=\"0 0 24 24\"\n",
              "       width=\"24px\">\n",
              "    <path d=\"M0 0h24v24H0V0z\" fill=\"none\"/>\n",
              "    <path d=\"M18.56 5.44l.94 2.06.94-2.06 2.06-.94-2.06-.94-.94-2.06-.94 2.06-2.06.94zm-11 1L8.5 8.5l.94-2.06 2.06-.94-2.06-.94L8.5 2.5l-.94 2.06-2.06.94zm10 10l.94 2.06.94-2.06 2.06-.94-2.06-.94-.94-2.06-.94 2.06-2.06.94z\"/><path d=\"M17.41 7.96l-1.37-1.37c-.4-.4-.92-.59-1.43-.59-.52 0-1.04.2-1.43.59L10.3 9.45l-7.72 7.72c-.78.78-.78 2.05 0 2.83L4 21.41c.39.39.9.59 1.41.59.51 0 1.02-.2 1.41-.59l7.78-7.78 2.81-2.81c.8-.78.8-2.07 0-2.86zM5.41 20L4 18.59l7.72-7.72 1.47 1.35L5.41 20z\"/>\n",
              "  </svg>\n",
              "      </button>\n",
              "      \n",
              "  <style>\n",
              "    .colab-df-container {\n",
              "      display:flex;\n",
              "      flex-wrap:wrap;\n",
              "      gap: 12px;\n",
              "    }\n",
              "\n",
              "    .colab-df-convert {\n",
              "      background-color: #E8F0FE;\n",
              "      border: none;\n",
              "      border-radius: 50%;\n",
              "      cursor: pointer;\n",
              "      display: none;\n",
              "      fill: #1967D2;\n",
              "      height: 32px;\n",
              "      padding: 0 0 0 0;\n",
              "      width: 32px;\n",
              "    }\n",
              "\n",
              "    .colab-df-convert:hover {\n",
              "      background-color: #E2EBFA;\n",
              "      box-shadow: 0px 1px 2px rgba(60, 64, 67, 0.3), 0px 1px 3px 1px rgba(60, 64, 67, 0.15);\n",
              "      fill: #174EA6;\n",
              "    }\n",
              "\n",
              "    [theme=dark] .colab-df-convert {\n",
              "      background-color: #3B4455;\n",
              "      fill: #D2E3FC;\n",
              "    }\n",
              "\n",
              "    [theme=dark] .colab-df-convert:hover {\n",
              "      background-color: #434B5C;\n",
              "      box-shadow: 0px 1px 3px 1px rgba(0, 0, 0, 0.15);\n",
              "      filter: drop-shadow(0px 1px 2px rgba(0, 0, 0, 0.3));\n",
              "      fill: #FFFFFF;\n",
              "    }\n",
              "  </style>\n",
              "\n",
              "      <script>\n",
              "        const buttonEl =\n",
              "          document.querySelector('#df-048112bc-0178-45b7-9902-767dd833f92e button.colab-df-convert');\n",
              "        buttonEl.style.display =\n",
              "          google.colab.kernel.accessAllowed ? 'block' : 'none';\n",
              "\n",
              "        async function convertToInteractive(key) {\n",
              "          const element = document.querySelector('#df-048112bc-0178-45b7-9902-767dd833f92e');\n",
              "          const dataTable =\n",
              "            await google.colab.kernel.invokeFunction('convertToInteractive',\n",
              "                                                     [key], {});\n",
              "          if (!dataTable) return;\n",
              "\n",
              "          const docLinkHtml = 'Like what you see? Visit the ' +\n",
              "            '<a target=\"_blank\" href=https://colab.research.google.com/notebooks/data_table.ipynb>data table notebook</a>'\n",
              "            + ' to learn more about interactive tables.';\n",
              "          element.innerHTML = '';\n",
              "          dataTable['output_type'] = 'display_data';\n",
              "          await google.colab.output.renderOutput(dataTable, element);\n",
              "          const docLink = document.createElement('div');\n",
              "          docLink.innerHTML = docLinkHtml;\n",
              "          element.appendChild(docLink);\n",
              "        }\n",
              "      </script>\n",
              "    </div>\n",
              "  </div>\n",
              "  "
            ],
            "text/plain": [
              "       att1 att2 att4 att5 att6 att7 att9 att10 att12 att13 att14 label\n",
              "count   690  690  690  690  690  690  690   690   690   690   690   690\n",
              "unique    3  350    4    4   15   10    2     2     2     3   171     2\n",
              "top       b    ?    u    g    c    v    t     f     f     g     0     -\n",
              "freq    468   12  519  519  137  399  361   395   374   625   132   383"
            ]
          },
          "execution_count": 216,
          "metadata": {},
          "output_type": "execute_result"
        }
      ],
      "source": [
        "# 查看類別資料, 其中att2、att14應為非類別資料，稍後作處理\n",
        "dataset1.describe(include=[\"O\"])"
      ]
    },
    {
      "cell_type": "code",
      "execution_count": 217,
      "metadata": {
        "colab": {
          "base_uri": "https://localhost:8080/",
          "height": 300
        },
        "id": "rP0LRuRvR1zH",
        "outputId": "32d76576-16ec-411d-f7f3-b21873d8bec7"
      },
      "outputs": [
        {
          "data": {
            "text/html": [
              "\n",
              "  <div id=\"df-4e25e144-1d5a-454f-af9f-3e48df1fe2a4\">\n",
              "    <div class=\"colab-df-container\">\n",
              "      <div>\n",
              "<style scoped>\n",
              "    .dataframe tbody tr th:only-of-type {\n",
              "        vertical-align: middle;\n",
              "    }\n",
              "\n",
              "    .dataframe tbody tr th {\n",
              "        vertical-align: top;\n",
              "    }\n",
              "\n",
              "    .dataframe thead th {\n",
              "        text-align: right;\n",
              "    }\n",
              "</style>\n",
              "<table border=\"1\" class=\"dataframe\">\n",
              "  <thead>\n",
              "    <tr style=\"text-align: right;\">\n",
              "      <th></th>\n",
              "      <th>att3</th>\n",
              "      <th>att8</th>\n",
              "      <th>att11</th>\n",
              "      <th>att15</th>\n",
              "    </tr>\n",
              "  </thead>\n",
              "  <tbody>\n",
              "    <tr>\n",
              "      <th>count</th>\n",
              "      <td>690.000000</td>\n",
              "      <td>690.000000</td>\n",
              "      <td>690.00000</td>\n",
              "      <td>690.000000</td>\n",
              "    </tr>\n",
              "    <tr>\n",
              "      <th>mean</th>\n",
              "      <td>4.758725</td>\n",
              "      <td>2.223406</td>\n",
              "      <td>2.40000</td>\n",
              "      <td>1017.385507</td>\n",
              "    </tr>\n",
              "    <tr>\n",
              "      <th>std</th>\n",
              "      <td>4.978163</td>\n",
              "      <td>3.346513</td>\n",
              "      <td>4.86294</td>\n",
              "      <td>5210.102598</td>\n",
              "    </tr>\n",
              "    <tr>\n",
              "      <th>min</th>\n",
              "      <td>0.000000</td>\n",
              "      <td>0.000000</td>\n",
              "      <td>0.00000</td>\n",
              "      <td>0.000000</td>\n",
              "    </tr>\n",
              "    <tr>\n",
              "      <th>25%</th>\n",
              "      <td>1.000000</td>\n",
              "      <td>0.165000</td>\n",
              "      <td>0.00000</td>\n",
              "      <td>0.000000</td>\n",
              "    </tr>\n",
              "    <tr>\n",
              "      <th>50%</th>\n",
              "      <td>2.750000</td>\n",
              "      <td>1.000000</td>\n",
              "      <td>0.00000</td>\n",
              "      <td>5.000000</td>\n",
              "    </tr>\n",
              "    <tr>\n",
              "      <th>75%</th>\n",
              "      <td>7.207500</td>\n",
              "      <td>2.625000</td>\n",
              "      <td>3.00000</td>\n",
              "      <td>395.500000</td>\n",
              "    </tr>\n",
              "    <tr>\n",
              "      <th>max</th>\n",
              "      <td>28.000000</td>\n",
              "      <td>28.500000</td>\n",
              "      <td>67.00000</td>\n",
              "      <td>100000.000000</td>\n",
              "    </tr>\n",
              "  </tbody>\n",
              "</table>\n",
              "</div>\n",
              "      <button class=\"colab-df-convert\" onclick=\"convertToInteractive('df-4e25e144-1d5a-454f-af9f-3e48df1fe2a4')\"\n",
              "              title=\"Convert this dataframe to an interactive table.\"\n",
              "              style=\"display:none;\">\n",
              "        \n",
              "  <svg xmlns=\"http://www.w3.org/2000/svg\" height=\"24px\"viewBox=\"0 0 24 24\"\n",
              "       width=\"24px\">\n",
              "    <path d=\"M0 0h24v24H0V0z\" fill=\"none\"/>\n",
              "    <path d=\"M18.56 5.44l.94 2.06.94-2.06 2.06-.94-2.06-.94-.94-2.06-.94 2.06-2.06.94zm-11 1L8.5 8.5l.94-2.06 2.06-.94-2.06-.94L8.5 2.5l-.94 2.06-2.06.94zm10 10l.94 2.06.94-2.06 2.06-.94-2.06-.94-.94-2.06-.94 2.06-2.06.94z\"/><path d=\"M17.41 7.96l-1.37-1.37c-.4-.4-.92-.59-1.43-.59-.52 0-1.04.2-1.43.59L10.3 9.45l-7.72 7.72c-.78.78-.78 2.05 0 2.83L4 21.41c.39.39.9.59 1.41.59.51 0 1.02-.2 1.41-.59l7.78-7.78 2.81-2.81c.8-.78.8-2.07 0-2.86zM5.41 20L4 18.59l7.72-7.72 1.47 1.35L5.41 20z\"/>\n",
              "  </svg>\n",
              "      </button>\n",
              "      \n",
              "  <style>\n",
              "    .colab-df-container {\n",
              "      display:flex;\n",
              "      flex-wrap:wrap;\n",
              "      gap: 12px;\n",
              "    }\n",
              "\n",
              "    .colab-df-convert {\n",
              "      background-color: #E8F0FE;\n",
              "      border: none;\n",
              "      border-radius: 50%;\n",
              "      cursor: pointer;\n",
              "      display: none;\n",
              "      fill: #1967D2;\n",
              "      height: 32px;\n",
              "      padding: 0 0 0 0;\n",
              "      width: 32px;\n",
              "    }\n",
              "\n",
              "    .colab-df-convert:hover {\n",
              "      background-color: #E2EBFA;\n",
              "      box-shadow: 0px 1px 2px rgba(60, 64, 67, 0.3), 0px 1px 3px 1px rgba(60, 64, 67, 0.15);\n",
              "      fill: #174EA6;\n",
              "    }\n",
              "\n",
              "    [theme=dark] .colab-df-convert {\n",
              "      background-color: #3B4455;\n",
              "      fill: #D2E3FC;\n",
              "    }\n",
              "\n",
              "    [theme=dark] .colab-df-convert:hover {\n",
              "      background-color: #434B5C;\n",
              "      box-shadow: 0px 1px 3px 1px rgba(0, 0, 0, 0.15);\n",
              "      filter: drop-shadow(0px 1px 2px rgba(0, 0, 0, 0.3));\n",
              "      fill: #FFFFFF;\n",
              "    }\n",
              "  </style>\n",
              "\n",
              "      <script>\n",
              "        const buttonEl =\n",
              "          document.querySelector('#df-4e25e144-1d5a-454f-af9f-3e48df1fe2a4 button.colab-df-convert');\n",
              "        buttonEl.style.display =\n",
              "          google.colab.kernel.accessAllowed ? 'block' : 'none';\n",
              "\n",
              "        async function convertToInteractive(key) {\n",
              "          const element = document.querySelector('#df-4e25e144-1d5a-454f-af9f-3e48df1fe2a4');\n",
              "          const dataTable =\n",
              "            await google.colab.kernel.invokeFunction('convertToInteractive',\n",
              "                                                     [key], {});\n",
              "          if (!dataTable) return;\n",
              "\n",
              "          const docLinkHtml = 'Like what you see? Visit the ' +\n",
              "            '<a target=\"_blank\" href=https://colab.research.google.com/notebooks/data_table.ipynb>data table notebook</a>'\n",
              "            + ' to learn more about interactive tables.';\n",
              "          element.innerHTML = '';\n",
              "          dataTable['output_type'] = 'display_data';\n",
              "          await google.colab.output.renderOutput(dataTable, element);\n",
              "          const docLink = document.createElement('div');\n",
              "          docLink.innerHTML = docLinkHtml;\n",
              "          element.appendChild(docLink);\n",
              "        }\n",
              "      </script>\n",
              "    </div>\n",
              "  </div>\n",
              "  "
            ],
            "text/plain": [
              "             att3        att8      att11          att15\n",
              "count  690.000000  690.000000  690.00000     690.000000\n",
              "mean     4.758725    2.223406    2.40000    1017.385507\n",
              "std      4.978163    3.346513    4.86294    5210.102598\n",
              "min      0.000000    0.000000    0.00000       0.000000\n",
              "25%      1.000000    0.165000    0.00000       0.000000\n",
              "50%      2.750000    1.000000    0.00000       5.000000\n",
              "75%      7.207500    2.625000    3.00000     395.500000\n",
              "max     28.000000   28.500000   67.00000  100000.000000"
            ]
          },
          "execution_count": 217,
          "metadata": {},
          "output_type": "execute_result"
        }
      ],
      "source": [
        "# 查看非類別資料\n",
        "dataset1.describe(exclude=[\"O\"])"
      ]
    },
    {
      "cell_type": "code",
      "execution_count": 221,
      "metadata": {
        "id": "eo8ED15GLe4s"
      },
      "outputs": [],
      "source": [
        "# 將x1(features), y1(labels)分開\n",
        "x1 = dataset1.iloc[:, dataset1.columns != \"label\"]\n",
        "y1 = dataset1.label.replace({\"+\": 1, \"-\": -1}).values\n",
        "\n",
        "# 將att2、att14轉換成非類別資料\n",
        "x1.att2 = x1.att2.replace(\"?\", 0).astype(np.float64)\n",
        "x1.att14 = x1.att14.replace(\"?\", 0).astype(np.float64)\n",
        "\n",
        "# 將x1\n",
        "x1_categorical = x1.select_dtypes(include=[\"O\"])\n",
        "x1_non_categorical = x1.select_dtypes(exclude=[\"O\"])"
      ]
    },
    {
      "cell_type": "code",
      "execution_count": 222,
      "metadata": {
        "id": "D0xwwi2cOR-o"
      },
      "outputs": [],
      "source": [
        "# 使用sklearn進行one-hot encoding\n",
        "from sklearn.preprocessing import OneHotEncoder\n",
        "enc = OneHotEncoder()\n",
        "enc.fit(x1_categorical)\n",
        "one_hot_categorical_arr = enc.transform(x1_categorical).toarray()\n",
        "\n",
        "# 確定one-hot結果與預期相符\n",
        "assert x1_categorical.describe().loc[\"unique\"].sum() == enc.transform(x1_categorical).toarray().shape[-1]\n",
        "\n",
        "# 合併類別、非類別資料\n",
        "non_categorical_arr = x1_non_categorical.values\n",
        "x1 = np.hstack((one_hot_categorical_arr, non_categorical_arr))"
      ]
    },
    {
      "cell_type": "code",
      "execution_count": 231,
      "metadata": {
        "colab": {
          "base_uri": "https://localhost:8080/",
          "height": 300
        },
        "id": "oYzWc3A5fNHu",
        "outputId": "12d21b48-5976-40c0-bb97-8579490431eb"
      },
      "outputs": [
        {
          "name": "stdout",
          "output_type": "stream",
          "text": [
            "[0.99888207 0.00110991]\n"
          ]
        },
        {
          "data": {
            "text/plain": [
              "<matplotlib.collections.PathCollection at 0x7fe73decc150>"
            ]
          },
          "execution_count": 231,
          "metadata": {},
          "output_type": "execute_result"
        },
        {
          "data": {
            "image/png": "[encoded data removed]",
            "text/plain": [
              "<Figure size 432x288 with 1 Axes>"
            ]
          },
          "metadata": {},
          "output_type": "display_data"
        }
      ],
      "source": [
        "# 先用PCA看看資料分布，由於dataset1有大量類別資料此處效果並不好\n",
        "from sklearn.decomposition import PCA\n",
        "pca = PCA(n_components=2)\n",
        "pca.fit(x1)\n",
        "print(pca.explained_variance_ratio_)\n",
        "\n",
        "pc1, pc2 = pca.transform(x1)[:, 0], pca.transform(x1)[:, 1]\n",
        "plt.scatter(pc1, pc2)"
      ]
    },
    {
      "cell_type": "code",
      "execution_count": 136,
      "metadata": {
        "id": "KkPRb7mxL78A"
      },
      "outputs": [],
      "source": [
        "# 使用sklearn來分割訓練集與測試集\n",
        "from sklearn.model_selection import train_test_split\n",
        "\n",
        "x1_train, x1_test, y1_train, y1_test = train_test_split(x1, y1, test_size=0.2, train_size=0.8)"
      ]
    },
    {
      "cell_type": "code",
      "execution_count": 224,
      "metadata": {
        "colab": {
          "base_uri": "https://localhost:8080/"
        },
        "id": "pAl2RBMiUJeR",
        "outputId": "590034f7-2512-4f0c-c32a-1f8c74e24c84"
      },
      "outputs": [
        {
          "data": {
            "text/plain": [
              "(0.4438405797101449, 0.4492753623188406)"
            ]
          },
          "execution_count": 224,
          "metadata": {},
          "output_type": "execute_result"
        }
      ],
      "source": [
        "# 使用sklearn內建perceptron測試\n",
        "from sklearn import linear_model\n",
        "\n",
        "sklearn_perceptron = linear_model.Perceptron()\n",
        "sklearn_perceptron.fit(x1_train, y1_train)\n",
        "sklearn_perceptron.score(x1_train, y1_train), sklearn_perceptron.score(x1_test, y1_test)"
      ]
    },
    {
      "cell_type": "code",
      "execution_count": 226,
      "metadata": {
        "colab": {
          "base_uri": "https://localhost:8080/"
        },
        "id": "mExHT6GYdr2R",
        "outputId": "4ab0501d-2368-4949-9ac7-2aec900a4a1c"
      },
      "outputs": [
        {
          "data": {
            "text/plain": [
              "(0.6630434782608695, 0.6231884057971014)"
            ]
          },
          "execution_count": 226,
          "metadata": {},
          "output_type": "execute_result"
        }
      ],
      "source": [
        "# 使用sklearn內建SVM測試\n",
        "from sklearn import svm\n",
        "\n",
        "svc = svm.SVC()\n",
        "svc.fit(x1_train, y1_train)\n",
        "svc.score(x1_train, y1_train), svc.score(x1_test, y1_test)"
      ]
    },
    {
      "cell_type": "code",
      "execution_count": 252,
      "metadata": {
        "colab": {
          "base_uri": "https://localhost:8080/",
          "height": 265
        },
        "id": "RKU7N-6iLB8Q",
        "outputId": "67f44eb3-d3ca-421a-a7fb-81ffde69522e"
      },
      "outputs": [
        {
          "data": {
            "image/png": "[encoded data removed]",
            "text/plain": [
              "<Figure size 432x288 with 1 Axes>"
            ]
          },
          "metadata": {},
          "output_type": "display_data"
        }
      ],
      "source": [
        "# 使用自定義vote perceptron\n",
        "perceptron1 = VotePerceptron()\n",
        "perceptron1.import_data(x1_train, y1_train, x1_test, y1_test)\n",
        "perceptron1.fit(50) # 此處因需記錄權重較多，僅訓練50epoch\n",
        "perceptron1.error_plot()"
      ]
    },
    {
      "cell_type": "code",
      "execution_count": 255,
      "metadata": {
        "colab": {
          "base_uri": "https://localhost:8080/"
        },
        "id": "4yZIn1QKjOln",
        "outputId": "977c2600-c4a2-4c69-8734-43b56f7c10dd"
      },
      "outputs": [
        {
          "data": {
            "text/plain": [
              "0.7101449275362319"
            ]
          },
          "execution_count": 255,
          "metadata": {},
          "output_type": "execute_result"
        }
      ],
      "source": [
        "# 僅用最後一次作預測準確度0.71>0.5，為可接受模型，且結果>SVC>sklearn_perceptron\n",
        "y_predict = perceptron1.predict(perceptron1.x_test)\n",
        "accuracy = 1 - perceptron1.error_rate(y_predict, perceptron1.y_test)\n",
        "accuracy"
      ]
    },
    {
      "cell_type": "code",
      "execution_count": 256,
      "metadata": {
        "colab": {
          "base_uri": "https://localhost:8080/"
        },
        "id": "jvVkdWesVpYo",
        "outputId": "953af9ab-1fe7-48f6-bcbf-569ca1449021"
      },
      "outputs": [
        {
          "data": {
            "text/plain": [
              "0.6376811594202898"
            ]
          },
          "execution_count": 256,
          "metadata": {},
          "output_type": "execute_result"
        }
      ],
      "source": [
        "# vote perceptron準確度0.63>0.5，為可接受模型，SVC>結果>sklearn_perceptron\n",
        "y_predict = perceptron1.vote_predict(perceptron1.x_test)\n",
        "accuracy = 1 - perceptron1.error_rate(y_predict, perceptron1.y_test)\n",
        "accuracy"
      ]
    },
    {
      "cell_type": "markdown",
      "metadata": {
        "id": "WbY06i6af3QO"
      },
      "source": [
        "# Dataset2\n",
        "dataset2為連續資料，不用進行前處理"
      ]
    },
    {
      "cell_type": "code",
      "execution_count": 232,
      "metadata": {
        "id": "umtRCLklKBtg"
      },
      "outputs": [],
      "source": [
        "# 使用sklearn來分割訓練集與測試集\n",
        "\n",
        "x2 = dataset2.loc[:, dataset2.columns != \"Diagnosis\"].values\n",
        "y2 = dataset2.Diagnosis.replace({\"M\": 1, \"B\": -1}).values\n",
        " \n",
        "x2_train, x2_test, y2_train, y2_test = train_test_split(x2, y2, test_size=0.2, train_size=0.8)"
      ]
    },
    {
      "cell_type": "code",
      "execution_count": 233,
      "metadata": {
        "colab": {
          "base_uri": "https://localhost:8080/",
          "height": 303
        },
        "id": "nfroa_62Mn53",
        "outputId": "17aec182-2b80-483e-c5a0-c6e6e616004e"
      },
      "outputs": [
        {
          "name": "stdout",
          "output_type": "stream",
          "text": [
            "[0.98204467 0.01617649]\n"
          ]
        },
        {
          "data": {
            "text/plain": [
              "<matplotlib.collections.PathCollection at 0x7fe73dfc9b10>"
            ]
          },
          "execution_count": 233,
          "metadata": {},
          "output_type": "execute_result"
        },
        {
          "data": {
            "image/png": "[encoded data removed]",
            "text/plain": [
              "<Figure size 432x288 with 1 Axes>"
            ]
          },
          "metadata": {},
          "output_type": "display_data"
        }
      ],
      "source": [
        "#利用PCA降維資料，稍微看一下資料分布\n",
        "pca = PCA(n_components=2)\n",
        "pca.fit(x2)\n",
        "print(pca.explained_variance_ratio_)\n",
        "\n",
        "pc1, pc2 = pca.transform(x2)[:, 0], pca.transform(x2)[:, 1]\n",
        "plt.scatter(pc1, pc2)"
      ]
    },
    {
      "cell_type": "markdown",
      "metadata": {
        "id": "cjphFEJiVJl6"
      },
      "source": [
        "# 先使用sklearn驗證輸入輸出，並先行比較SVM與perceptron"
      ]
    },
    {
      "cell_type": "code",
      "execution_count": 240,
      "metadata": {
        "colab": {
          "base_uri": "https://localhost:8080/"
        },
        "id": "QBXCW_413459",
        "outputId": "0b3924fe-85fe-4ae2-ebae-9b6d11e05cf0"
      },
      "outputs": [
        {
          "data": {
            "text/plain": [
              "(0.9186813186813186, 0.9035087719298246)"
            ]
          },
          "execution_count": 240,
          "metadata": {},
          "output_type": "execute_result"
        }
      ],
      "source": [
        "# 使用sklearn內建perceptron測試\n",
        "perceptron = linear_model.Perceptron()\n",
        "perceptron.fit(x2_train, y2_train)\n",
        "perceptron.score(x2_train, y2_train), perceptron.score(x2_test, y2_test)"
      ]
    },
    {
      "cell_type": "code",
      "execution_count": 241,
      "metadata": {
        "colab": {
          "base_uri": "https://localhost:8080/"
        },
        "id": "Ri0sOCNhs34v",
        "outputId": "814d8bd6-fba3-404b-e733-e0f0473a564c"
      },
      "outputs": [
        {
          "data": {
            "text/plain": [
              "(0.9098901098901099, 0.8947368421052632)"
            ]
          },
          "execution_count": 241,
          "metadata": {},
          "output_type": "execute_result"
        }
      ],
      "source": [
        "# 使用sklearn內建SVM測試\n",
        "svc = svm.SVC()\n",
        "svc.fit(x2_train, y2_train)\n",
        "svc.score(x2_train, y2_train), svc.score(x2_test, y2_test)"
      ]
    },
    {
      "cell_type": "code",
      "execution_count": 257,
      "metadata": {
        "colab": {
          "base_uri": "https://localhost:8080/",
          "height": 265
        },
        "id": "scAIPTz58ry_",
        "outputId": "d554e688-72d7-4fe5-9bf4-a054c230cdfd"
      },
      "outputs": [
        {
          "data": {
            "image/png": "[encoded data removed]",
            "text/plain": [
              "<Figure size 432x288 with 1 Axes>"
            ]
          },
          "metadata": {},
          "output_type": "display_data"
        }
      ],
      "source": [
        "# 使用自定義vote perceptron\n",
        "perceptron2 = VotePerceptron()\n",
        "perceptron2.import_data(x2_train, y2_train, x2_test, y2_test)\n",
        "perceptron2.fit(max_epoch=100)\n",
        "perceptron2.error_plot()"
      ]
    },
    {
      "cell_type": "code",
      "execution_count": 258,
      "metadata": {
        "colab": {
          "base_uri": "https://localhost:8080/"
        },
        "id": "DuygazyBTpo2",
        "outputId": "df531603-671a-419d-8d4d-78e85393d4d9"
      },
      "outputs": [
        {
          "data": {
            "text/plain": [
              "0.8859649122807017"
            ]
          },
          "execution_count": 258,
          "metadata": {},
          "output_type": "execute_result"
        }
      ],
      "source": [
        "# 可以看到此處測試集上準確度0.89>0.5，為可接受模型，sklearn_perceptron>SVM>vote perceptron\n",
        "y_predict = perceptron2.vote_predict(perceptron2.x_test)\n",
        "accuracy = 1 - perceptron2.error_rate(y_predict, perceptron2.y_test)\n",
        "accuracy"
      ]
    },
    {
      "cell_type": "code",
      "execution_count": 259,
      "metadata": {
        "colab": {
          "base_uri": "https://localhost:8080/"
        },
        "id": "KNf5PL95hmbw",
        "outputId": "7fa597f8-9f70-438a-80ff-76998451e56a"
      },
      "outputs": [
        {
          "data": {
            "text/plain": [
              "0.8947368421052632"
            ]
          },
          "execution_count": 259,
          "metadata": {},
          "output_type": "execute_result"
        }
      ],
      "source": [
        "# 僅用最後一次權重預測，為可接受模型，sklearn_perceptron>perceptron>SVM\n",
        "y_predict = perceptron2.predict(perceptron2.x_test)\n",
        "accuracy = 1 - perceptron2.error_rate(y_predict, perceptron2.y_test)\n",
        "accuracy"
      ]
    }
  ],
  "metadata": {
    "colab": {
      "collapsed_sections": [],
      "provenance": []
    },
    "kernelspec": {
      "display_name": "Python 3",
      "name": "python3"
    },
    "language_info": {
      "name": "python"
    }
  },
  "nbformat": 4,
  "nbformat_minor": 0
}
